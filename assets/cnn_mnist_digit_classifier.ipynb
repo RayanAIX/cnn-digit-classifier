{
  "nbformat": 4,
  "nbformat_minor": 0,
  "metadata": {
    "colab": {
      "provenance": []
    },
    "kernelspec": {
      "name": "python3",
      "display_name": "Python 3"
    },
    "language_info": {
      "name": "python"
    }
  },
  "cells": [
    {
      "cell_type": "code",
      "execution_count": 1,
      "metadata": {
        "colab": {
          "base_uri": "https://localhost:8080/",
          "height": 743
        },
        "id": "Da7s5oKKMXJY",
        "outputId": "0d888eec-d585-4d71-99f1-61671bf4d207"
      },
      "outputs": [
        {
          "output_type": "stream",
          "name": "stdout",
          "text": [
            "Downloading data from https://storage.googleapis.com/tensorflow/tf-keras-datasets/mnist.npz\n",
            "\u001b[1m11490434/11490434\u001b[0m \u001b[32m━━━━━━━━━━━━━━━━━━━━\u001b[0m\u001b[37m\u001b[0m \u001b[1m1s\u001b[0m 0us/step\n"
          ]
        },
        {
          "output_type": "stream",
          "name": "stderr",
          "text": [
            "/usr/local/lib/python3.11/dist-packages/keras/src/layers/convolutional/base_conv.py:107: UserWarning: Do not pass an `input_shape`/`input_dim` argument to a layer. When using Sequential models, prefer using an `Input(shape)` object as the first layer in the model instead.\n",
            "  super().__init__(activity_regularizer=activity_regularizer, **kwargs)\n"
          ]
        },
        {
          "output_type": "stream",
          "name": "stdout",
          "text": [
            "Epoch 1/5\n",
            "\u001b[1m1688/1688\u001b[0m \u001b[32m━━━━━━━━━━━━━━━━━━━━\u001b[0m\u001b[37m\u001b[0m \u001b[1m55s\u001b[0m 31ms/step - accuracy: 0.8987 - loss: 0.3271 - val_accuracy: 0.9837 - val_loss: 0.0557\n",
            "Epoch 2/5\n",
            "\u001b[1m1688/1688\u001b[0m \u001b[32m━━━━━━━━━━━━━━━━━━━━\u001b[0m\u001b[37m\u001b[0m \u001b[1m81s\u001b[0m 30ms/step - accuracy: 0.9850 - loss: 0.0493 - val_accuracy: 0.9860 - val_loss: 0.0483\n",
            "Epoch 3/5\n",
            "\u001b[1m1688/1688\u001b[0m \u001b[32m━━━━━━━━━━━━━━━━━━━━\u001b[0m\u001b[37m\u001b[0m \u001b[1m82s\u001b[0m 30ms/step - accuracy: 0.9891 - loss: 0.0350 - val_accuracy: 0.9892 - val_loss: 0.0412\n",
            "Epoch 4/5\n",
            "\u001b[1m1688/1688\u001b[0m \u001b[32m━━━━━━━━━━━━━━━━━━━━\u001b[0m\u001b[37m\u001b[0m \u001b[1m81s\u001b[0m 29ms/step - accuracy: 0.9920 - loss: 0.0265 - val_accuracy: 0.9912 - val_loss: 0.0371\n",
            "Epoch 5/5\n",
            "\u001b[1m1688/1688\u001b[0m \u001b[32m━━━━━━━━━━━━━━━━━━━━\u001b[0m\u001b[37m\u001b[0m \u001b[1m84s\u001b[0m 31ms/step - accuracy: 0.9947 - loss: 0.0174 - val_accuracy: 0.9908 - val_loss: 0.0337\n",
            "\u001b[1m313/313\u001b[0m \u001b[32m━━━━━━━━━━━━━━━━━━━━\u001b[0m\u001b[37m\u001b[0m \u001b[1m3s\u001b[0m 10ms/step - accuracy: 0.9874 - loss: 0.0371\n",
            "Test Accuracy: 0.9905999898910522\n",
            "\u001b[1m313/313\u001b[0m \u001b[32m━━━━━━━━━━━━━━━━━━━━\u001b[0m\u001b[37m\u001b[0m \u001b[1m3s\u001b[0m 8ms/step\n"
          ]
        },
        {
          "output_type": "display_data",
          "data": {
            "text/plain": [
              "<Figure size 640x480 with 1 Axes>"
            ],
            "image/png": "[encoded data removed]"
          },
          "metadata": {}
        }
      ],
      "source": [
        "# 📦 STEP 1: Import Libraries\n",
        "import tensorflow as tf\n",
        "from tensorflow.keras import layers, models\n",
        "import matplotlib.pyplot as plt\n",
        "\n",
        "# 📥 STEP 2: Load and Preprocess MNIST Data\n",
        "(X_train, y_train), (X_test, y_test) = tf.keras.datasets.mnist.load_data()\n",
        "\n",
        "# CNN needs 4D shape: (samples, height, width, channels)\n",
        "X_train = X_train.reshape((X_train.shape[0], 28, 28, 1)) / 255.0\n",
        "X_test = X_test.reshape((X_test.shape[0], 28, 28, 1)) / 255.0\n",
        "\n",
        "# 🧠 STEP 3: Build the CNN Model\n",
        "model = models.Sequential([\n",
        "    layers.Conv2D(32, (3, 3), activation='relu', input_shape=(28, 28, 1)),\n",
        "    layers.MaxPooling2D((2, 2)),\n",
        "\n",
        "    layers.Conv2D(64, (3, 3), activation='relu'),\n",
        "    layers.MaxPooling2D((2, 2)),\n",
        "\n",
        "    layers.Flatten(),\n",
        "    layers.Dense(64, activation='relu'),\n",
        "    layers.Dense(10, activation='softmax')\n",
        "])\n",
        "\n",
        "# ⚙️ STEP 4: Compile Model\n",
        "model.compile(optimizer='adam',\n",
        "              loss='sparse_categorical_crossentropy',\n",
        "              metrics=['accuracy'])\n",
        "\n",
        "# 🚀 STEP 5: Train Model\n",
        "model.fit(X_train, y_train, epochs=5, validation_split=0.1)\n",
        "\n",
        "# 📊 STEP 6: Evaluate Model\n",
        "test_loss, test_acc = model.evaluate(X_test, y_test)\n",
        "print(\"Test Accuracy:\", test_acc)\n",
        "\n",
        "# 🔮 STEP 7: Predict and Visualize\n",
        "import numpy as np\n",
        "predictions = model.predict(X_test)\n",
        "\n",
        "# Show sample\n",
        "import random\n",
        "i = random.randint(0, len(X_test)-1)\n",
        "plt.imshow(X_test[i].reshape(28, 28), cmap='gray')\n",
        "plt.title(f\"Prediction: {np.argmax(predictions[i])}, Actual: {y_test[i]}\")\n",
        "plt.axis('off')\n",
        "plt.show()\n"
      ]
    }
  ]
}